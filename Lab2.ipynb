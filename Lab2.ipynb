{
  "nbformat": 4,
  "nbformat_minor": 0,
  "metadata": {
    "colab": {
      "name": "Lab2.ipynb",
      "provenance": [],
      "collapsed_sections": [],
      "authorship_tag": "ABX9TyPBpHyRgDhTh42oGslJ83GI",
      "include_colab_link": true
    },
    "kernelspec": {
      "name": "python3",
      "display_name": "Python 3"
    },
    "language_info": {
      "name": "python"
    }
  },
  "cells": [
    {
      "cell_type": "markdown",
      "metadata": {
        "id": "view-in-github",
        "colab_type": "text"
      },
      "source": [
        "<a href=\"https://colab.research.google.com/github/ele9996/data-science-lab-homework/blob/main/Lab2.ipynb\" target=\"_parent\"><img src=\"https://colab.research.google.com/assets/colab-badge.svg\" alt=\"Open In Colab\"/></a>"
      ]
    },
    {
      "cell_type": "code",
      "metadata": {
        "id": "R-eGsBzHUC3W"
      },
      "source": [
        "from random import gauss\n",
        "import matplotlib.pyplot as plt\n",
        "import pandas as pd\n",
        "import numpy as np"
      ],
      "execution_count": 93,
      "outputs": []
    },
    {
      "cell_type": "markdown",
      "metadata": {
        "id": "JXfZJ9tGU2r7"
      },
      "source": [
        "##Import Global Land Temperature Dataset"
      ]
    },
    {
      "cell_type": "code",
      "metadata": {
        "colab": {
          "base_uri": "https://localhost:8080/"
        },
        "id": "VcAZveaBUgNH",
        "outputId": "b3e44608-d673-4ceb-e115-cb8b4dfebc40"
      },
      "source": [
        "dataset = pd.read_csv('https://raw.githubusercontent.com/dbdmg/data-science-lab/master/datasets/GLT_filtered.csv').to_numpy()\n",
        "dataset"
      ],
      "execution_count": 94,
      "outputs": [
        {
          "output_type": "execute_result",
          "data": {
            "text/plain": [
              "array([['1849-01-01', 26.704, 1.435, ..., \"Côte D'Ivoire\", '5.63N',\n",
              "        '3.23W'],\n",
              "       ['1849-02-01', 27.434, 1.362, ..., \"Côte D'Ivoire\", '5.63N',\n",
              "        '3.23W'],\n",
              "       ['1849-03-01', nan, nan, ..., \"Côte D'Ivoire\", '5.63N', '3.23W'],\n",
              "       ...,\n",
              "       ['2012-10-01', 12.399000000000001, 0.526, ..., 'China', '34.56N',\n",
              "        '108.97E'],\n",
              "       ['2012-11-01', 4.7360000000000015, 0.519, ..., 'China', '34.56N',\n",
              "        '108.97E'],\n",
              "       ['2012-12-01', -0.8220000000000001, 0.451, ..., 'China', '34.56N',\n",
              "        '108.97E']], dtype=object)"
            ]
          },
          "metadata": {
            "tags": []
          },
          "execution_count": 94
        }
      ]
    },
    {
      "cell_type": "code",
      "metadata": {
        "colab": {
          "base_uri": "https://localhost:8080/"
        },
        "id": "tghg18gBZVm7",
        "outputId": "b4ad8ce3-69c2-4261-a9ec-9f9d8f915800"
      },
      "source": [
        "for i in range(0,dataset.shape[0]):            #dataset.shape[0]\n",
        "  \n",
        "  if str(dataset[i][1]) ==\"nan\":\n",
        "    \n",
        "    if str(dataset[i-1][1]) == 'nan':\n",
        "      dataset[i][1]=np.mean([0,dataset[i+1][1]])\n",
        "\n",
        "\n",
        "    elif str(dataset[i+1][1])== 'nan':\n",
        "      dataset[i][1]=np.mean([dataset[i-1][1],0])\n",
        "\n",
        "    else:\n",
        "      dataset[i][1]=np.mean([dataset[i-1][1],dataset[i+1][1]])\n",
        "\n",
        "print(dataset) "
      ],
      "execution_count": 95,
      "outputs": [
        {
          "output_type": "stream",
          "text": [
            "[['1849-01-01' 26.704 1.435 ... \"Côte D'Ivoire\" '5.63N' '3.23W']\n",
            " ['1849-02-01' 27.434 1.362 ... \"Côte D'Ivoire\" '5.63N' '3.23W']\n",
            " ['1849-03-01' 26.787 nan ... \"Côte D'Ivoire\" '5.63N' '3.23W']\n",
            " ...\n",
            " ['2012-10-01' 12.399000000000001 0.526 ... 'China' '34.56N' '108.97E']\n",
            " ['2012-11-01' 4.7360000000000015 0.519 ... 'China' '34.56N' '108.97E']\n",
            " ['2012-12-01' -0.8220000000000001 0.451 ... 'China' '34.56N' '108.97E']]\n"
          ],
          "name": "stdout"
        }
      ]
    },
    {
      "cell_type": "markdown",
      "metadata": {
        "id": "qOe0xFyqE1qV"
      },
      "source": [
        "## Top N hottest meausurements and top N coldest measurements\n",
        "Define a function that, given a name of a city and an integer N>0 prints:\n",
        "\n",
        "\n",
        "1.   The N top hottest measurements\n",
        "2.   The N top coldest measurements\n",
        "\n"
      ]
    },
    {
      "cell_type": "code",
      "metadata": {
        "colab": {
          "base_uri": "https://localhost:8080/"
        },
        "id": "sQu4J_UzFfH-",
        "outputId": "703b3928-1b6b-44df-b2c8-7164a72f8bd6"
      },
      "source": [
        "def topHotCold(city,n):\n",
        "  newds=dataset[dataset[:,3] == city]\n",
        "  sorted_array = newds[np.argsort(newds[:, 1])] #sorta solo dal più piccolo al più grande\n",
        "  largest_indices = sorted_array[::-1][:n] #fai sortare dal più grande al più piccolo\n",
        "  lowest_indices= sorted_array[:n]\n",
        "\n",
        "\n",
        "\n",
        "  print(largest_indices)\n",
        "  print(\"-------------------------------------------------------------------\")\n",
        "  print(lowest_indices)\n",
        "\n",
        "\n",
        " \n",
        " \n",
        "topHotCold(\"Delhi\",3)\n",
        "\n",
        "   "
      ],
      "execution_count": 102,
      "outputs": [
        {
          "output_type": "stream",
          "text": [
            "[['1995-06-01' 36.291 0.338 'Delhi' 'India' '28.13N' '77.27E']\n",
            " ['1932-06-01' 36.005 0.474 'Delhi' 'India' '28.13N' '77.27E']\n",
            " ['1923-06-01' 35.988 0.348 'Delhi' 'India' '28.13N' '77.27E']]\n",
            "-------------------------------------------------------------------\n",
            "[['1869-11-01' 1.3526005400926011e-42 nan 'Delhi' 'India' '28.13N'\n",
            "  '77.27E']\n",
            " ['1869-10-01' 2.7052010801852022e-42 nan 'Delhi' 'India' '28.13N'\n",
            "  '77.27E']\n",
            " ['1869-09-01' 5.4104021603704044e-42 nan 'Delhi' 'India' '28.13N'\n",
            "  '77.27E']]\n"
          ],
          "name": "stdout"
        }
      ]
    },
    {
      "cell_type": "code",
      "metadata": {
        "id": "hVdIKUs9E0Qm"
      },
      "source": [
        ""
      ],
      "execution_count": 96,
      "outputs": []
    },
    {
      "cell_type": "code",
      "metadata": {
        "colab": {
          "base_uri": "https://localhost:8080/",
          "height": 35
        },
        "id": "c4NW2oDNjQz1",
        "outputId": "b82b7b3e-7136-4176-81a8-68e062d76d87"
      },
      "source": [
        "'''indicizzazione numpy\n",
        "for i in range (0,len(df)):\n",
        "  entry=df.iloc[[i],[1]] #iloc--> seleziona gli elementi del dataset by position [numero]--> colonne  [[numero]]--> righe\n",
        "'''"
      ],
      "execution_count": 97,
      "outputs": [
        {
          "output_type": "execute_result",
          "data": {
            "application/vnd.google.colaboratory.intrinsic+json": {
              "type": "string"
            },
            "text/plain": [
              "'indicizzazione numpy\\nfor i in range (0,len(df)):\\n  entry=df.iloc[[i],[1]] #iloc--> seleziona gli elementi del dataset by position [numero]--> colonne  [[numero]]--> righe\\n'"
            ]
          },
          "metadata": {
            "tags": []
          },
          "execution_count": 97
        }
      ]
    }
  ]
}