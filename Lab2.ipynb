{
  "nbformat": 4,
  "nbformat_minor": 0,
  "metadata": {
    "colab": {
      "name": "Lab2.ipynb",
      "provenance": [],
      "collapsed_sections": [],
      "authorship_tag": "ABX9TyN+Z+mtttXGveSPHYBd7c+u",
      "include_colab_link": true
    },
    "kernelspec": {
      "name": "python3",
      "display_name": "Python 3"
    },
    "language_info": {
      "name": "python"
    }
  },
  "cells": [
    {
      "cell_type": "markdown",
      "metadata": {
        "id": "view-in-github",
        "colab_type": "text"
      },
      "source": [
        "<a href=\"https://colab.research.google.com/github/ele9996/data-science-lab-homework/blob/main/Lab2.ipynb\" target=\"_parent\"><img src=\"https://colab.research.google.com/assets/colab-badge.svg\" alt=\"Open In Colab\"/></a>"
      ]
    },
    {
      "cell_type": "code",
      "metadata": {
        "id": "R-eGsBzHUC3W"
      },
      "source": [
        "from random import gauss\n",
        "import matplotlib.pyplot as plt\n",
        "import pandas as pd\n",
        "import numpy as np"
      ],
      "execution_count": 2,
      "outputs": []
    },
    {
      "cell_type": "markdown",
      "metadata": {
        "id": "JXfZJ9tGU2r7"
      },
      "source": [
        "##Import Global Land Temperature Dataset"
      ]
    },
    {
      "cell_type": "code",
      "metadata": {
        "colab": {
          "base_uri": "https://localhost:8080/"
        },
        "id": "VcAZveaBUgNH",
        "outputId": "c089ca95-da28-4fcc-e0b1-051d6b26781f"
      },
      "source": [
        "dataset = pd.read_csv('https://raw.githubusercontent.com/dbdmg/data-science-lab/master/datasets/GLT_filtered.csv').to_numpy()\n",
        "dataset"
      ],
      "execution_count": 3,
      "outputs": [
        {
          "output_type": "execute_result",
          "data": {
            "text/plain": [
              "array([['1849-01-01', 26.704, 1.435, ..., \"Côte D'Ivoire\", '5.63N',\n",
              "        '3.23W'],\n",
              "       ['1849-02-01', 27.434, 1.362, ..., \"Côte D'Ivoire\", '5.63N',\n",
              "        '3.23W'],\n",
              "       ['1849-03-01', nan, nan, ..., \"Côte D'Ivoire\", '5.63N', '3.23W'],\n",
              "       ...,\n",
              "       ['2012-10-01', 12.399000000000001, 0.526, ..., 'China', '34.56N',\n",
              "        '108.97E'],\n",
              "       ['2012-11-01', 4.7360000000000015, 0.519, ..., 'China', '34.56N',\n",
              "        '108.97E'],\n",
              "       ['2012-12-01', -0.8220000000000001, 0.451, ..., 'China', '34.56N',\n",
              "        '108.97E']], dtype=object)"
            ]
          },
          "metadata": {
            "tags": []
          },
          "execution_count": 3
        }
      ]
    },
    {
      "cell_type": "code",
      "metadata": {
        "colab": {
          "base_uri": "https://localhost:8080/"
        },
        "id": "tghg18gBZVm7",
        "outputId": "4b69689b-ae1b-4d2b-f638-3518e14fa7d3"
      },
      "source": [
        "for i in range(0,dataset.shape[0]):            #dataset.shape[0]\n",
        "  \n",
        "  if str(dataset[i][1]) ==\"nan\":\n",
        "    \n",
        "    if str(dataset[i-1][1]) == 'nan':\n",
        "      dataset[i][1]=np.mean([0,dataset[i+1][1]])\n",
        "\n",
        "\n",
        "    elif str(dataset[i+1][1])== 'nan':\n",
        "      dataset[i][1]=np.mean([dataset[i-1][1],0])\n",
        "\n",
        "    else:\n",
        "      dataset[i][1]=np.mean([dataset[i-1][1],dataset[i+1][1]])\n",
        "\n",
        "print(dataset) "
      ],
      "execution_count": 4,
      "outputs": [
        {
          "output_type": "stream",
          "text": [
            "[['1849-01-01' 26.704 1.435 ... \"Côte D'Ivoire\" '5.63N' '3.23W']\n",
            " ['1849-02-01' 27.434 1.362 ... \"Côte D'Ivoire\" '5.63N' '3.23W']\n",
            " ['1849-03-01' 26.787 nan ... \"Côte D'Ivoire\" '5.63N' '3.23W']\n",
            " ...\n",
            " ['2012-10-01' 12.399000000000001 0.526 ... 'China' '34.56N' '108.97E']\n",
            " ['2012-11-01' 4.7360000000000015 0.519 ... 'China' '34.56N' '108.97E']\n",
            " ['2012-12-01' -0.8220000000000001 0.451 ... 'China' '34.56N' '108.97E']]\n"
          ],
          "name": "stdout"
        }
      ]
    },
    {
      "cell_type": "markdown",
      "metadata": {
        "id": "qOe0xFyqE1qV"
      },
      "source": [
        "## Top N hottest meausurements and top N coldest measurements\n",
        "Define a function that, given a name of a city and an integer N>0 prints:\n",
        "\n",
        "\n",
        "1.   The N top hottest measurements\n",
        "2.   The N top coldest measurements\n",
        "\n"
      ]
    },
    {
      "cell_type": "code",
      "metadata": {
        "colab": {
          "base_uri": "https://localhost:8080/"
        },
        "id": "sQu4J_UzFfH-",
        "outputId": "bc5911c9-2104-4192-fe8e-e0669fb232fd"
      },
      "source": [
        "def topHotCold(city,n):\n",
        "  newds=dataset[dataset[:,3] == city]\n",
        "  sorted_array = newds[np.argsort(newds[:, 1])] #sorta solo dal più piccolo al più grande\n",
        "  largest_indices = sorted_array[::-1][:n] #fai sortare dal più grande al più piccolo\n",
        "  lowest_indices= sorted_array[:n]\n",
        "\n",
        "\n",
        "\n",
        "  print(largest_indices)\n",
        "  print(\"-------------------------------------------------------------------\")\n",
        "  print(lowest_indices)\n",
        "\n",
        "\n",
        " \n",
        " \n",
        "topHotCold(\"Delhi\",3)\n",
        "\n",
        "   "
      ],
      "execution_count": 5,
      "outputs": [
        {
          "output_type": "stream",
          "text": [
            "[['1995-06-01' 36.291 0.338 'Delhi' 'India' '28.13N' '77.27E']\n",
            " ['1932-06-01' 36.005 0.474 'Delhi' 'India' '28.13N' '77.27E']\n",
            " ['1923-06-01' 35.988 0.348 'Delhi' 'India' '28.13N' '77.27E']]\n",
            "-------------------------------------------------------------------\n",
            "[['1869-11-01' 1.3526005400926011e-42 nan 'Delhi' 'India' '28.13N'\n",
            "  '77.27E']\n",
            " ['1869-10-01' 2.7052010801852022e-42 nan 'Delhi' 'India' '28.13N'\n",
            "  '77.27E']\n",
            " ['1869-09-01' 5.4104021603704044e-42 nan 'Delhi' 'India' '28.13N'\n",
            "  '77.27E']]\n"
          ],
          "name": "stdout"
        }
      ]
    },
    {
      "cell_type": "code",
      "metadata": {
        "colab": {
          "base_uri": "https://localhost:8080/",
          "height": 35
        },
        "id": "c4NW2oDNjQz1",
        "outputId": "a1d4cb9d-a69c-4b01-8c9c-fd5800a19057"
      },
      "source": [
        "'''indicizzazione numpy\n",
        "for i in range (0,len(df)):\n",
        "  entry=df.iloc[[i],[1]] #iloc--> seleziona gli elementi del dataset by position [numero]--> colonne  [[numero]]--> righe\n",
        "'''"
      ],
      "execution_count": 6,
      "outputs": [
        {
          "output_type": "execute_result",
          "data": {
            "application/vnd.google.colaboratory.intrinsic+json": {
              "type": "string"
            },
            "text/plain": [
              "'indicizzazione numpy\\nfor i in range (0,len(df)):\\n  entry=df.iloc[[i],[1]] #iloc--> seleziona gli elementi del dataset by position [numero]--> colonne  [[numero]]--> righe\\n'"
            ]
          },
          "metadata": {
            "tags": []
          },
          "execution_count": 6
        }
      ]
    },
    {
      "cell_type": "markdown",
      "metadata": {
        "id": "F9EP9e0JOlIx"
      },
      "source": [
        "##IMDb reviews"
      ]
    },
    {
      "cell_type": "code",
      "metadata": {
        "colab": {
          "base_uri": "https://localhost:8080/"
        },
        "id": "xfzUsWyHOm6n",
        "outputId": "ab2325f7-f7ab-4a61-dc21-604b3471ba79"
      },
      "source": [
        "movie_dataset = pd.read_csv('https://raw.githubusercontent.com/dbdmg/data-science-lab/master/datasets/aclimdb_reviews_train.txt').to_numpy()\n",
        "movie_dataset"
      ],
      "execution_count": 10,
      "outputs": [
        {
          "output_type": "execute_result",
          "data": {
            "text/plain": [
              "array([['For a movie that gets no respect there sure are a lot of memorable quotes listed for this gem. Imagine a movie where Joe Piscopo is actually funny! Maureen Stapleton is a scene stealer. The Moroni character is an absolute scream. Watch for Alan \"The Skipper\" Hale jr. as a police Sgt.',\n",
              "        1],\n",
              "       [\"Working with one of the best Shakespeare sources, this film manages to be creditable to it's source, whilst still appealing to a wider audience.<br /><br />Branagh steals the film from under Fishburne's nose, and there's a talented cast on good form.\",\n",
              "        0],\n",
              "       ['Bizarre horror movie filled with famous faces but stolen by Cristina Raines (later of TV\\'s \"Flamingo Road\") as a pretty but somewhat unstable model with a gummy smile who is slated to pay for her attempted suicides by guarding the Gateway to Hell! The scenes with Raines modeling are very well captured, the mood music is perfect, Deborah Raffin is charming as Cristina\\'s pal, but when Raines moves into a creepy Brooklyn Heights brownstone (inhabited by a blind priest on the top floor), things really start cooking. The neighbors, including a fantastically wicked Burgess Meredith and kinky couple Sylvia Miles & Beverly D\\'Angelo, are a diabolical lot, and Eli Wallach is great fun as a wily police detective. The movie is nearly a cross-pollination of \"Rosemary\\'s Baby\" and \"The Exorcist\"--but what a combination! Based on the best-seller by Jeffrey Konvitz, \"The Sentinel\" is entertainingly spooky, full of shocks brought off well by director Michael Winner, who mounts a thoughtfully downbeat ending with skill. ***1/2 from ****',\n",
              "        1],\n",
              "       ...,\n",
              "       ['Eight academy nominations? It\\'s beyond belief. I can only think it was a very bad year - even by Hollywood standards. With Huston as director and Jack Nicholson and Kathleen Turner as leads I probably would have swallowed the bait and watched this anyway, but the Oscar nominations really sold it to me, and I feel distinctly cheated as a result.<br /><br />So it\\'s a black comedy is it? Can anyone tell me where the humour is in Prizzi\\'s Honor? It\\'s certainly tasteless (the shooting in the head of a policeman\\'s wife is but another supposedly comic interlude in this intended farce about mafia life) but with the exception of a joke about \\'your favourite Mexican cigars\\' (which I imagine is an old joke for Americans who have been officially forbidden from buying anything Cuban for the last 50 years) I failed to spot anything of a comic nature - and I did try. There is a lot of Mafia cliché but cliché doesn\\'t constitute humour in my book.<br /><br />Is it a romantic comedy of sorts? Never. The characters and their relationships are so completely incredible and shallow that they are on a par with Ben Afleck and Jennifer Lopez in Gigli.<br /><br />Is it a cleverly devised parody about the Mafia? Not in a million years. The plot is just pointlessly absurd rather than comically absurd, and it usually just has the feel of a really bad (and cheap) Mafia movie. It feels more like a homage than a parody.<br /><br />With one-dimensional characters and little in the way of humour written for them, the actors are left doing dodgy accents and pulling faces. Well it isn\\'t enough; even when the face is being pulled by that master of the comic facial expression, Jack Nicholson (repleat with puffed up top lip ... now is that meant to be a parody of Brando\\'s padded jowls in The Godfather?... Oh! Who cares?... all I know is, it isn\\'t funny).<br /><br />Throw in some slow, plodding direction (this film drags on for 2 hours), some hopelessly daft and clichéd dialogue such as; \"You remember the Camora? Well we\\'re far bigger, we\\'ll track you down wherever you go\", and clichéd mannerisms and you\\'ll be reaching for that fast forward button before you can say \"capiche?\". Prizzi\\'s Honor is far from being Huston\\'s \"masterpiece\" and is rather a very poor last work. It\\'s definitely one work in the great director\\'s canon that should be given a concrete overcoat and tossed into the Hudson River.',\n",
              "        0],\n",
              "       [\"Enchanted April is a tone poem, an impressionist painting, a masterpiece of conveying a message with few words. It has been one of my 10 favorite films since it came out. I continue to wait, albeit less patiently, for the film to come out in DVD format. Apparently, I am not alone.<br /><br />If parent company Amazon's listings are correct, there are many people who want this title in DVD format. Many people want to go to Italy with this cast and this script. Many people want to keep a permanent copy of this film in their libraries. The cast is spectacular, the cinematography and direction impeccable. The film is a definite keeper. Many have already asked. Please add our names to the list.\",\n",
              "        1],\n",
              "       ['Not that I dislike childrens movies, but this was a tearjerker with few redeeming qualities. M.J. Fox was the perfect voice for Stuart and the rest of the talent was wasted. Hugh Laurie can be amazingly funny, but is not given the chance in this movie. It´s sugar-coated sugar and would hardly appeal to anyone over 7 years of age. See Toy Story, Monsters Inc. or Shrek instead. 3/10',\n",
              "        0]], dtype=object)"
            ]
          },
          "metadata": {
            "tags": []
          },
          "execution_count": 10
        }
      ]
    },
    {
      "cell_type": "code",
      "metadata": {
        "id": "Nus8gWFXQUuY"
      },
      "source": [
        "import string\n",
        "def tokenize(docs):\n",
        "\"\"\"Compute the tokens for each document.\n",
        "Input: a list of strings. Each item is a document to tokenize.\n",
        "Output: a list of lists. Each item is a list containing the tokens of the\n",
        "relative document.\n",
        "\"\"\"\n",
        "tokens = []\n",
        "for doc in docs:\n",
        "for punct in string.punctuation:\n",
        "doc = doc.replace(punct, \" \")\n",
        "split_doc = [ token.lower() for token in doc.split(\" \") if token ]\n",
        "tokens.append(split_doc)\n",
        "return tokens\n"
      ],
      "execution_count": null,
      "outputs": []
    }
  ]
}